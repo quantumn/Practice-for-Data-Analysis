{
 "cells": [
  {
   "cell_type": "markdown",
   "metadata": {},
   "source": [
    "# 3 Predicting Sports Winners with Decision Trees"
   ]
  },
  {
   "cell_type": "raw",
   "metadata": {},
   "source": [
    "predicting the winner of sports matches using a\n",
    "different type of classification algorithm: decision trees. These algorithms have a\n",
    "number of advantages over other algorithms. One of the main advantages is that they\n",
    "are readable by humans. In this way, decision trees can be used to learn a procedure,\n",
    "which could then be given to a human to perform if needed. Another advantage is\n",
    "that they work with a variety of features, which we will see in this chapter.\n",
    "We will cover the following topics in this chapter:\n",
    "• Using the pandas library for loading and manipulating data\n",
    "• Decision trees\n",
    "• Random forests\n",
    "• Using real-world datasets in data mining\n",
    "• Creating new features and testing them in a robust framework\n",
    "Loading the"
   ]
  },
  {
   "cell_type": "markdown",
   "metadata": {},
   "source": [
    "Loading the dataset"
   ]
  },
  {
   "cell_type": "markdown",
   "metadata": {},
   "source": [
    "Using pandas to load the dataset\n",
    "\n",
    "The pandas library is a library for loading, managing, and manipulating data.\n",
    "It handles data structures behind-the-scenes and supports analysis methods,\n",
    "such as computing the mean"
   ]
  },
  {
   "cell_type": "code",
   "execution_count": 85,
   "metadata": {
    "collapsed": false,
    "scrolled": true
   },
   "outputs": [
    {
     "data": {
      "text/html": [
       "<div style=\"max-height:1000px;max-width:1500px;overflow:auto;\">\n",
       "<table border=\"1\" class=\"dataframe\">\n",
       "  <thead>\n",
       "    <tr style=\"text-align: right;\">\n",
       "      <th></th>\n",
       "      <th>Date</th>\n",
       "      <th>Unnamed: 1</th>\n",
       "      <th>Visitor/Neutral</th>\n",
       "      <th>PTS</th>\n",
       "      <th>Home/Neutral</th>\n",
       "      <th>PTS.1</th>\n",
       "      <th>Unnamed: 6</th>\n",
       "      <th>Notes</th>\n",
       "    </tr>\n",
       "  </thead>\n",
       "  <tbody>\n",
       "    <tr>\n",
       "      <th>0</th>\n",
       "      <td> Tue Oct 29 2013</td>\n",
       "      <td> Box Score</td>\n",
       "      <td>        Orlando Magic</td>\n",
       "      <td>  87</td>\n",
       "      <td>      Indiana Pacers</td>\n",
       "      <td>  97</td>\n",
       "      <td> NaN</td>\n",
       "      <td> NaN</td>\n",
       "    </tr>\n",
       "    <tr>\n",
       "      <th>1</th>\n",
       "      <td> Tue Oct 29 2013</td>\n",
       "      <td> Box Score</td>\n",
       "      <td> Los Angeles Clippers</td>\n",
       "      <td> 103</td>\n",
       "      <td>  Los Angeles Lakers</td>\n",
       "      <td> 116</td>\n",
       "      <td> NaN</td>\n",
       "      <td> NaN</td>\n",
       "    </tr>\n",
       "    <tr>\n",
       "      <th>2</th>\n",
       "      <td> Tue Oct 29 2013</td>\n",
       "      <td> Box Score</td>\n",
       "      <td>        Chicago Bulls</td>\n",
       "      <td>  95</td>\n",
       "      <td>          Miami Heat</td>\n",
       "      <td> 107</td>\n",
       "      <td> NaN</td>\n",
       "      <td> NaN</td>\n",
       "    </tr>\n",
       "    <tr>\n",
       "      <th>3</th>\n",
       "      <td> Wed Oct 30 2013</td>\n",
       "      <td> Box Score</td>\n",
       "      <td>        Brooklyn Nets</td>\n",
       "      <td>  94</td>\n",
       "      <td> Cleveland Cavaliers</td>\n",
       "      <td>  98</td>\n",
       "      <td> NaN</td>\n",
       "      <td> NaN</td>\n",
       "    </tr>\n",
       "    <tr>\n",
       "      <th>4</th>\n",
       "      <td> Wed Oct 30 2013</td>\n",
       "      <td> Box Score</td>\n",
       "      <td>        Atlanta Hawks</td>\n",
       "      <td> 109</td>\n",
       "      <td>    Dallas Mavericks</td>\n",
       "      <td> 118</td>\n",
       "      <td> NaN</td>\n",
       "      <td> NaN</td>\n",
       "    </tr>\n",
       "    <tr>\n",
       "      <th>5</th>\n",
       "      <td> Wed Oct 30 2013</td>\n",
       "      <td> Box Score</td>\n",
       "      <td>   Washington Wizards</td>\n",
       "      <td> 102</td>\n",
       "      <td>     Detroit Pistons</td>\n",
       "      <td> 113</td>\n",
       "      <td> NaN</td>\n",
       "      <td> NaN</td>\n",
       "    </tr>\n",
       "  </tbody>\n",
       "</table>\n",
       "</div>"
      ],
      "text/plain": [
       "              Date Unnamed: 1       Visitor/Neutral  PTS         Home/Neutral  \\\n",
       "0  Tue Oct 29 2013  Box Score         Orlando Magic   87       Indiana Pacers   \n",
       "1  Tue Oct 29 2013  Box Score  Los Angeles Clippers  103   Los Angeles Lakers   \n",
       "2  Tue Oct 29 2013  Box Score         Chicago Bulls   95           Miami Heat   \n",
       "3  Wed Oct 30 2013  Box Score         Brooklyn Nets   94  Cleveland Cavaliers   \n",
       "4  Wed Oct 30 2013  Box Score         Atlanta Hawks  109     Dallas Mavericks   \n",
       "5  Wed Oct 30 2013  Box Score    Washington Wizards  102      Detroit Pistons   \n",
       "\n",
       "  PTS.1 Unnamed: 6 Notes  \n",
       "0    97        NaN   NaN  \n",
       "1   116        NaN   NaN  \n",
       "2   107        NaN   NaN  \n",
       "3    98        NaN   NaN  \n",
       "4   118        NaN   NaN  \n",
       "5   113        NaN   NaN  "
      ]
     },
     "execution_count": 85,
     "metadata": {},
     "output_type": "execute_result"
    }
   ],
   "source": [
    "import pandas as pd\n",
    "results=pd.read_csv('leagues_NBA_2014_games_games.csv')\n",
    "data_filename='leagues_NBA_2014_games_games.csv'\n",
    "results.ix[:5]"
   ]
  },
  {
   "cell_type": "markdown",
   "metadata": {},
   "source": [
    "Cleaning up the dataset"
   ]
  },
  {
   "cell_type": "raw",
   "metadata": {},
   "source": [
    "• The date is just a string and not a date object\n",
    "• The first row is blank\n",
    "• From visually inspecting the results, the headings aren't complete or correct"
   ]
  },
  {
   "cell_type": "code",
   "execution_count": 86,
   "metadata": {
    "collapsed": false
   },
   "outputs": [
    {
     "data": {
      "text/plain": [
       "'The pandas.read_csv function has parameters to fix each of these issues, which we\\ncan specify when loading the file. We can also change the headings after loading the\\nfile'"
      ]
     },
     "execution_count": 86,
     "metadata": {},
     "output_type": "execute_result"
    }
   ],
   "source": [
    "'''The pandas.read_csv function has parameters to fix each of these issues, which we\n",
    "can specify when loading the file. We can also change the headings after loading the\n",
    "file'''"
   ]
  },
  {
   "cell_type": "code",
   "execution_count": 88,
   "metadata": {
    "collapsed": false
   },
   "outputs": [
    {
     "data": {
      "text/html": [
       "<div style=\"max-height:1000px;max-width:1500px;overflow:auto;\">\n",
       "<table border=\"1\" class=\"dataframe\">\n",
       "  <thead>\n",
       "    <tr style=\"text-align: right;\">\n",
       "      <th></th>\n",
       "      <th>Date</th>\n",
       "      <th>Score Type</th>\n",
       "      <th>Visitor Team</th>\n",
       "      <th>VisitorPts</th>\n",
       "      <th>Home Team</th>\n",
       "      <th>HomePts</th>\n",
       "      <th>OT?</th>\n",
       "      <th>Notes</th>\n",
       "    </tr>\n",
       "  </thead>\n",
       "  <tbody>\n",
       "    <tr>\n",
       "      <th>0</th>\n",
       "      <td> Tue Oct 29 2013</td>\n",
       "      <td> Box Score</td>\n",
       "      <td> Los Angeles Clippers</td>\n",
       "      <td> 103</td>\n",
       "      <td>    Los Angeles Lakers</td>\n",
       "      <td> 116</td>\n",
       "      <td> NaN</td>\n",
       "      <td> NaN</td>\n",
       "    </tr>\n",
       "    <tr>\n",
       "      <th>1</th>\n",
       "      <td> Tue Oct 29 2013</td>\n",
       "      <td> Box Score</td>\n",
       "      <td>        Chicago Bulls</td>\n",
       "      <td>  95</td>\n",
       "      <td>            Miami Heat</td>\n",
       "      <td> 107</td>\n",
       "      <td> NaN</td>\n",
       "      <td> NaN</td>\n",
       "    </tr>\n",
       "    <tr>\n",
       "      <th>2</th>\n",
       "      <td> Wed Oct 30 2013</td>\n",
       "      <td> Box Score</td>\n",
       "      <td>        Brooklyn Nets</td>\n",
       "      <td>  94</td>\n",
       "      <td>   Cleveland Cavaliers</td>\n",
       "      <td>  98</td>\n",
       "      <td> NaN</td>\n",
       "      <td> NaN</td>\n",
       "    </tr>\n",
       "    <tr>\n",
       "      <th>3</th>\n",
       "      <td> Wed Oct 30 2013</td>\n",
       "      <td> Box Score</td>\n",
       "      <td>        Atlanta Hawks</td>\n",
       "      <td> 109</td>\n",
       "      <td>      Dallas Mavericks</td>\n",
       "      <td> 118</td>\n",
       "      <td> NaN</td>\n",
       "      <td> NaN</td>\n",
       "    </tr>\n",
       "    <tr>\n",
       "      <th>4</th>\n",
       "      <td> Wed Oct 30 2013</td>\n",
       "      <td> Box Score</td>\n",
       "      <td>   Washington Wizards</td>\n",
       "      <td> 102</td>\n",
       "      <td>       Detroit Pistons</td>\n",
       "      <td> 113</td>\n",
       "      <td> NaN</td>\n",
       "      <td> NaN</td>\n",
       "    </tr>\n",
       "    <tr>\n",
       "      <th>5</th>\n",
       "      <td> Wed Oct 30 2013</td>\n",
       "      <td> Box Score</td>\n",
       "      <td>   Los Angeles Lakers</td>\n",
       "      <td>  94</td>\n",
       "      <td> Golden State Warriors</td>\n",
       "      <td> 125</td>\n",
       "      <td> NaN</td>\n",
       "      <td> NaN</td>\n",
       "    </tr>\n",
       "  </tbody>\n",
       "</table>\n",
       "</div>"
      ],
      "text/plain": [
       "              Date Score Type          Visitor Team VisitorPts  \\\n",
       "0  Tue Oct 29 2013  Box Score  Los Angeles Clippers        103   \n",
       "1  Tue Oct 29 2013  Box Score         Chicago Bulls         95   \n",
       "2  Wed Oct 30 2013  Box Score         Brooklyn Nets         94   \n",
       "3  Wed Oct 30 2013  Box Score         Atlanta Hawks        109   \n",
       "4  Wed Oct 30 2013  Box Score    Washington Wizards        102   \n",
       "5  Wed Oct 30 2013  Box Score    Los Angeles Lakers         94   \n",
       "\n",
       "               Home Team HomePts  OT? Notes  \n",
       "0     Los Angeles Lakers     116  NaN   NaN  \n",
       "1             Miami Heat     107  NaN   NaN  \n",
       "2    Cleveland Cavaliers      98  NaN   NaN  \n",
       "3       Dallas Mavericks     118  NaN   NaN  \n",
       "4        Detroit Pistons     113  NaN   NaN  \n",
       "5  Golden State Warriors     125  NaN   NaN  "
      ]
     },
     "execution_count": 88,
     "metadata": {},
     "output_type": "execute_result"
    }
   ],
   "source": [
    "# Don't read the first row, as it is blank, and parse the date column as a date\n",
    "results = pd.read_csv(data_filename, skiprows=[0,])\n",
    "# Fix the name of the columns\n",
    "results.columns = [\"Date\", \"Score Type\", \"Visitor Team\", \"VisitorPts\", \n",
    "                   \"Home Team\", \"HomePts\", \"OT?\", \"Notes\"]\n",
    "\n",
    "results.ix[:5]"
   ]
  },
  {
   "cell_type": "code",
   "execution_count": 89,
   "metadata": {
    "collapsed": false,
    "scrolled": true
   },
   "outputs": [
    {
     "data": {
      "text/html": [
       "<div style=\"max-height:1000px;max-width:1500px;overflow:auto;\">\n",
       "<table border=\"1\" class=\"dataframe\">\n",
       "  <thead>\n",
       "    <tr style=\"text-align: right;\">\n",
       "      <th></th>\n",
       "      <th>Date</th>\n",
       "      <th>Score Type</th>\n",
       "      <th>Visitor Team</th>\n",
       "      <th>VisitorPts</th>\n",
       "      <th>Home Team</th>\n",
       "      <th>HomePts</th>\n",
       "      <th>OT?</th>\n",
       "      <th>Notes</th>\n",
       "      <th>HomeWin</th>\n",
       "    </tr>\n",
       "  </thead>\n",
       "  <tbody>\n",
       "    <tr>\n",
       "      <th>0</th>\n",
       "      <td> Tue Oct 29 2013</td>\n",
       "      <td> Box Score</td>\n",
       "      <td> Los Angeles Clippers</td>\n",
       "      <td> 103</td>\n",
       "      <td>    Los Angeles Lakers</td>\n",
       "      <td> 116</td>\n",
       "      <td> NaN</td>\n",
       "      <td> NaN</td>\n",
       "      <td>  True</td>\n",
       "    </tr>\n",
       "    <tr>\n",
       "      <th>1</th>\n",
       "      <td> Tue Oct 29 2013</td>\n",
       "      <td> Box Score</td>\n",
       "      <td>        Chicago Bulls</td>\n",
       "      <td>  95</td>\n",
       "      <td>            Miami Heat</td>\n",
       "      <td> 107</td>\n",
       "      <td> NaN</td>\n",
       "      <td> NaN</td>\n",
       "      <td> False</td>\n",
       "    </tr>\n",
       "    <tr>\n",
       "      <th>2</th>\n",
       "      <td> Wed Oct 30 2013</td>\n",
       "      <td> Box Score</td>\n",
       "      <td>        Brooklyn Nets</td>\n",
       "      <td>  94</td>\n",
       "      <td>   Cleveland Cavaliers</td>\n",
       "      <td>  98</td>\n",
       "      <td> NaN</td>\n",
       "      <td> NaN</td>\n",
       "      <td>  True</td>\n",
       "    </tr>\n",
       "    <tr>\n",
       "      <th>3</th>\n",
       "      <td> Wed Oct 30 2013</td>\n",
       "      <td> Box Score</td>\n",
       "      <td>        Atlanta Hawks</td>\n",
       "      <td> 109</td>\n",
       "      <td>      Dallas Mavericks</td>\n",
       "      <td> 118</td>\n",
       "      <td> NaN</td>\n",
       "      <td> NaN</td>\n",
       "      <td>  True</td>\n",
       "    </tr>\n",
       "    <tr>\n",
       "      <th>4</th>\n",
       "      <td> Wed Oct 30 2013</td>\n",
       "      <td> Box Score</td>\n",
       "      <td>   Washington Wizards</td>\n",
       "      <td> 102</td>\n",
       "      <td>       Detroit Pistons</td>\n",
       "      <td> 113</td>\n",
       "      <td> NaN</td>\n",
       "      <td> NaN</td>\n",
       "      <td>  True</td>\n",
       "    </tr>\n",
       "    <tr>\n",
       "      <th>5</th>\n",
       "      <td> Wed Oct 30 2013</td>\n",
       "      <td> Box Score</td>\n",
       "      <td>   Los Angeles Lakers</td>\n",
       "      <td>  94</td>\n",
       "      <td> Golden State Warriors</td>\n",
       "      <td> 125</td>\n",
       "      <td> NaN</td>\n",
       "      <td> NaN</td>\n",
       "      <td> False</td>\n",
       "    </tr>\n",
       "  </tbody>\n",
       "</table>\n",
       "</div>"
      ],
      "text/plain": [
       "              Date Score Type          Visitor Team VisitorPts  \\\n",
       "0  Tue Oct 29 2013  Box Score  Los Angeles Clippers        103   \n",
       "1  Tue Oct 29 2013  Box Score         Chicago Bulls         95   \n",
       "2  Wed Oct 30 2013  Box Score         Brooklyn Nets         94   \n",
       "3  Wed Oct 30 2013  Box Score         Atlanta Hawks        109   \n",
       "4  Wed Oct 30 2013  Box Score    Washington Wizards        102   \n",
       "5  Wed Oct 30 2013  Box Score    Los Angeles Lakers         94   \n",
       "\n",
       "               Home Team HomePts  OT? Notes HomeWin  \n",
       "0     Los Angeles Lakers     116  NaN   NaN    True  \n",
       "1             Miami Heat     107  NaN   NaN   False  \n",
       "2    Cleveland Cavaliers      98  NaN   NaN    True  \n",
       "3       Dallas Mavericks     118  NaN   NaN    True  \n",
       "4        Detroit Pistons     113  NaN   NaN    True  \n",
       "5  Golden State Warriors     125  NaN   NaN   False  "
      ]
     },
     "execution_count": 89,
     "metadata": {},
     "output_type": "execute_result"
    }
   ],
   "source": [
    "results[\"HomeWin\"] = results[\"VisitorPts\"] < results[\"HomePts\"]\n",
    "# Our \"class values\"\n",
    "y_true = results[\"HomeWin\"].values\n",
    "results.ix[:5]"
   ]
  },
  {
   "cell_type": "markdown",
   "metadata": {
    "collapsed": false
   },
   "source": [
    "Extracting new features"
   ]
  },
  {
   "cell_type": "code",
   "execution_count": 90,
   "metadata": {
    "collapsed": false
   },
   "outputs": [
    {
     "name": "stdout",
     "output_type": "stream",
     "text": [
      "Home Win percentage: 47.0%\n"
     ]
    }
   ],
   "source": [
    "import numpy as np\n",
    "#Make sure HomeWin column was added in dataset\n",
    "print(\"Home Win percentage: {0:.1f}%\".\n",
    "      format(100 * results[\"HomeWin\"].sum() / results[\"HomeWin\"].count())) \n",
    "dataset['HomeWin']=dataset['Visitor Team']<dataset['HomePts']"
   ]
  },
  {
   "cell_type": "code",
   "execution_count": 70,
   "metadata": {
    "collapsed": false
   },
   "outputs": [
    {
     "data": {
      "text/html": [
       "<div style=\"max-height:1000px;max-width:1500px;overflow:auto;\">\n",
       "<table border=\"1\" class=\"dataframe\">\n",
       "  <thead>\n",
       "    <tr style=\"text-align: right;\">\n",
       "      <th></th>\n",
       "      <th>Date</th>\n",
       "      <th>Score Type</th>\n",
       "      <th>Visitor Team</th>\n",
       "      <th>VisitorPts</th>\n",
       "      <th>Home Team</th>\n",
       "      <th>HomePts</th>\n",
       "      <th>OT?</th>\n",
       "      <th>Notes</th>\n",
       "      <th>HomeWin</th>\n",
       "      <th>HomeLastWin</th>\n",
       "      <th>VisitorLastWin</th>\n",
       "    </tr>\n",
       "  </thead>\n",
       "  <tbody>\n",
       "    <tr>\n",
       "      <th>0</th>\n",
       "      <td> Tue Oct 29 2013</td>\n",
       "      <td> Box Score</td>\n",
       "      <td> Los Angeles Clippers</td>\n",
       "      <td> 103</td>\n",
       "      <td>    Los Angeles Lakers</td>\n",
       "      <td> 116</td>\n",
       "      <td> NaN</td>\n",
       "      <td> NaN</td>\n",
       "      <td> False</td>\n",
       "      <td> False</td>\n",
       "      <td> False</td>\n",
       "    </tr>\n",
       "    <tr>\n",
       "      <th>1</th>\n",
       "      <td> Tue Oct 29 2013</td>\n",
       "      <td> Box Score</td>\n",
       "      <td>        Chicago Bulls</td>\n",
       "      <td>  95</td>\n",
       "      <td>            Miami Heat</td>\n",
       "      <td> 107</td>\n",
       "      <td> NaN</td>\n",
       "      <td> NaN</td>\n",
       "      <td> False</td>\n",
       "      <td> False</td>\n",
       "      <td> False</td>\n",
       "    </tr>\n",
       "    <tr>\n",
       "      <th>2</th>\n",
       "      <td> Wed Oct 30 2013</td>\n",
       "      <td> Box Score</td>\n",
       "      <td>        Brooklyn Nets</td>\n",
       "      <td>  94</td>\n",
       "      <td>   Cleveland Cavaliers</td>\n",
       "      <td>  98</td>\n",
       "      <td> NaN</td>\n",
       "      <td> NaN</td>\n",
       "      <td> False</td>\n",
       "      <td> False</td>\n",
       "      <td> False</td>\n",
       "    </tr>\n",
       "    <tr>\n",
       "      <th>3</th>\n",
       "      <td> Wed Oct 30 2013</td>\n",
       "      <td> Box Score</td>\n",
       "      <td>        Atlanta Hawks</td>\n",
       "      <td> 109</td>\n",
       "      <td>      Dallas Mavericks</td>\n",
       "      <td> 118</td>\n",
       "      <td> NaN</td>\n",
       "      <td> NaN</td>\n",
       "      <td> False</td>\n",
       "      <td> False</td>\n",
       "      <td> False</td>\n",
       "    </tr>\n",
       "    <tr>\n",
       "      <th>4</th>\n",
       "      <td> Wed Oct 30 2013</td>\n",
       "      <td> Box Score</td>\n",
       "      <td>   Washington Wizards</td>\n",
       "      <td> 102</td>\n",
       "      <td>       Detroit Pistons</td>\n",
       "      <td> 113</td>\n",
       "      <td> NaN</td>\n",
       "      <td> NaN</td>\n",
       "      <td> False</td>\n",
       "      <td> False</td>\n",
       "      <td> False</td>\n",
       "    </tr>\n",
       "    <tr>\n",
       "      <th>5</th>\n",
       "      <td> Wed Oct 30 2013</td>\n",
       "      <td> Box Score</td>\n",
       "      <td>   Los Angeles Lakers</td>\n",
       "      <td>  94</td>\n",
       "      <td> Golden State Warriors</td>\n",
       "      <td> 125</td>\n",
       "      <td> NaN</td>\n",
       "      <td> NaN</td>\n",
       "      <td> False</td>\n",
       "      <td> False</td>\n",
       "      <td> False</td>\n",
       "    </tr>\n",
       "  </tbody>\n",
       "</table>\n",
       "</div>"
      ],
      "text/plain": [
       "              Date Score Type          Visitor Team VisitorPts  \\\n",
       "0  Tue Oct 29 2013  Box Score  Los Angeles Clippers        103   \n",
       "1  Tue Oct 29 2013  Box Score         Chicago Bulls         95   \n",
       "2  Wed Oct 30 2013  Box Score         Brooklyn Nets         94   \n",
       "3  Wed Oct 30 2013  Box Score         Atlanta Hawks        109   \n",
       "4  Wed Oct 30 2013  Box Score    Washington Wizards        102   \n",
       "5  Wed Oct 30 2013  Box Score    Los Angeles Lakers         94   \n",
       "\n",
       "               Home Team HomePts  OT? Notes HomeWin HomeLastWin VisitorLastWin  \n",
       "0     Los Angeles Lakers     116  NaN   NaN   False       False          False  \n",
       "1             Miami Heat     107  NaN   NaN   False       False          False  \n",
       "2    Cleveland Cavaliers      98  NaN   NaN   False       False          False  \n",
       "3       Dallas Mavericks     118  NaN   NaN   False       False          False  \n",
       "4        Detroit Pistons     113  NaN   NaN   False       False          False  \n",
       "5  Golden State Warriors     125  NaN   NaN   False       False          False  "
      ]
     },
     "execution_count": 70,
     "metadata": {},
     "output_type": "execute_result"
    }
   ],
   "source": [
    "dataset[\"HomeLastWin\"] = False\n",
    "dataset[\"VisitorLastWin\"] = False\n",
    "# This creates two new columns, all set to False\n",
    "dataset.ix[:5]"
   ]
  },
  {
   "cell_type": "code",
   "execution_count": 91,
   "metadata": {
    "collapsed": false
   },
   "outputs": [
    {
     "data": {
      "text/html": [
       "<div style=\"max-height:1000px;max-width:1500px;overflow:auto;\">\n",
       "<table border=\"1\" class=\"dataframe\">\n",
       "  <thead>\n",
       "    <tr style=\"text-align: right;\">\n",
       "      <th></th>\n",
       "      <th>Date</th>\n",
       "      <th>Score Type</th>\n",
       "      <th>Visitor Team</th>\n",
       "      <th>VisitorPts</th>\n",
       "      <th>Home Team</th>\n",
       "      <th>HomePts</th>\n",
       "      <th>OT?</th>\n",
       "      <th>Notes</th>\n",
       "      <th>HomeWin</th>\n",
       "    </tr>\n",
       "  </thead>\n",
       "  <tbody>\n",
       "    <tr>\n",
       "      <th>20</th>\n",
       "      <td> Fri Nov 1 2013</td>\n",
       "      <td> Box Score</td>\n",
       "      <td>        Milwaukee Bucks</td>\n",
       "      <td> 105</td>\n",
       "      <td>     Boston Celtics</td>\n",
       "      <td>  98</td>\n",
       "      <td> NaN</td>\n",
       "      <td> NaN</td>\n",
       "      <td>  True</td>\n",
       "    </tr>\n",
       "    <tr>\n",
       "      <th>21</th>\n",
       "      <td> Fri Nov 1 2013</td>\n",
       "      <td> Box Score</td>\n",
       "      <td>             Miami Heat</td>\n",
       "      <td> 100</td>\n",
       "      <td>      Brooklyn Nets</td>\n",
       "      <td> 101</td>\n",
       "      <td> NaN</td>\n",
       "      <td> NaN</td>\n",
       "      <td>  True</td>\n",
       "    </tr>\n",
       "    <tr>\n",
       "      <th>22</th>\n",
       "      <td> Fri Nov 1 2013</td>\n",
       "      <td> Box Score</td>\n",
       "      <td>    Cleveland Cavaliers</td>\n",
       "      <td>  84</td>\n",
       "      <td>  Charlotte Bobcats</td>\n",
       "      <td>  90</td>\n",
       "      <td> NaN</td>\n",
       "      <td> NaN</td>\n",
       "      <td>  True</td>\n",
       "    </tr>\n",
       "    <tr>\n",
       "      <th>23</th>\n",
       "      <td> Fri Nov 1 2013</td>\n",
       "      <td> Box Score</td>\n",
       "      <td> Portland Trail Blazers</td>\n",
       "      <td> 113</td>\n",
       "      <td>     Denver Nuggets</td>\n",
       "      <td>  98</td>\n",
       "      <td> NaN</td>\n",
       "      <td> NaN</td>\n",
       "      <td>  True</td>\n",
       "    </tr>\n",
       "    <tr>\n",
       "      <th>24</th>\n",
       "      <td> Fri Nov 1 2013</td>\n",
       "      <td> Box Score</td>\n",
       "      <td>       Dallas Mavericks</td>\n",
       "      <td> 105</td>\n",
       "      <td>    Houston Rockets</td>\n",
       "      <td> 113</td>\n",
       "      <td> NaN</td>\n",
       "      <td> NaN</td>\n",
       "      <td>  True</td>\n",
       "    </tr>\n",
       "    <tr>\n",
       "      <th>25</th>\n",
       "      <td> Fri Nov 1 2013</td>\n",
       "      <td> Box Score</td>\n",
       "      <td>      San Antonio Spurs</td>\n",
       "      <td>  91</td>\n",
       "      <td> Los Angeles Lakers</td>\n",
       "      <td>  85</td>\n",
       "      <td> NaN</td>\n",
       "      <td> NaN</td>\n",
       "      <td> False</td>\n",
       "    </tr>\n",
       "  </tbody>\n",
       "</table>\n",
       "</div>"
      ],
      "text/plain": [
       "              Date Score Type            Visitor Team VisitorPts  \\\n",
       "20  Fri Nov 1 2013  Box Score         Milwaukee Bucks        105   \n",
       "21  Fri Nov 1 2013  Box Score              Miami Heat        100   \n",
       "22  Fri Nov 1 2013  Box Score     Cleveland Cavaliers         84   \n",
       "23  Fri Nov 1 2013  Box Score  Portland Trail Blazers        113   \n",
       "24  Fri Nov 1 2013  Box Score        Dallas Mavericks        105   \n",
       "25  Fri Nov 1 2013  Box Score       San Antonio Spurs         91   \n",
       "\n",
       "             Home Team HomePts  OT? Notes HomeWin  \n",
       "20      Boston Celtics      98  NaN   NaN    True  \n",
       "21       Brooklyn Nets     101  NaN   NaN    True  \n",
       "22   Charlotte Bobcats      90  NaN   NaN    True  \n",
       "23      Denver Nuggets      98  NaN   NaN    True  \n",
       "24     Houston Rockets     113  NaN   NaN    True  \n",
       "25  Los Angeles Lakers      85  NaN   NaN   False  "
      ]
     },
     "execution_count": 91,
     "metadata": {},
     "output_type": "execute_result"
    }
   ],
   "source": [
    "# Now compute the actual values for these\n",
    "# Did the home and visitor teams win their last game?\n",
    "from collections import defaultdict\n",
    "won_last = defaultdict(int)\n",
    "\n",
    "for index, row in results.iterrows():  # Note that this is not efficient\n",
    "    home_team = row[\"Home Team\"]\n",
    "    visitor_team = row[\"Visitor Team\"]\n",
    "    row[\"HomeLastWin\"] = won_last[home_team]\n",
    "    row[\"VisitorLastWin\"] = won_last[visitor_team]\n",
    "    results.ix[index] = row    \n",
    "    # Set current win\n",
    "    won_last[home_team] = row[\"HomeWin\"]\n",
    "    won_last[visitor_team] = not row[\"HomeWin\"]\n",
    "results.ix[20:25]"
   ]
  },
  {
   "cell_type": "markdown",
   "metadata": {},
   "source": [
    "# Decision trees"
   ]
  },
  {
   "cell_type": "raw",
   "metadata": {},
   "source": [
    "Decision trees are a class of supervised learning algorithm like a flow chart that\n",
    "consists of a sequence of nodes, where the values for a sample are used to make a\n",
    "decision on the next node to go to"
   ]
  },
  {
   "cell_type": "raw",
   "metadata": {
    "collapsed": true
   },
   "source": [
    "most classification algorithms, there are two components:\n",
    "• The first is the training stage, where a tree is built using training data.\n",
    "While the nearest neighbor algorithm from the previous chapter did not\n",
    "have a training phase, it is needed for decision trees. In this way, the nearest\n",
    "neighbor algorithm is a lazy learner, only doing any work when it needs\n",
    "to make a prediction. In contrast, decision trees, like most classification\n",
    "methods, are eager learners, undertaking work at the training stage.\n",
    "• The second is the predicting stage, where the trained tree is used to\n",
    "predict the classification of new samples. Using the previous example\n",
    "tree, a data point of [\"is raining\", \"very windy\"] would be classed\n",
    "as \"bad weather\"."
   ]
  },
  {
   "cell_type": "raw",
   "metadata": {},
   "source": [
    "The scikit-learn package implements the CART (Classification and Regression\n",
    "Trees) algorithm as its default decision tree class, which can use both categorical and\n",
    "continuous features."
   ]
  },
  {
   "cell_type": "markdown",
   "metadata": {},
   "source": [
    "Parameters in decision trees"
   ]
  },
  {
   "cell_type": "raw",
   "metadata": {},
   "source": [
    "The decision tree implementation in scikit-learn provides a method to stop the\n",
    "building of a tree using the following options:\n",
    "• min_samples_split: This specifies how many samples are needed in order\n",
    "to create a new node in the decision tree\n",
    "• min_samples_leaf: This specifies how many samples must be resulting\n",
    "from a node for it to stay"
   ]
  },
  {
   "cell_type": "raw",
   "metadata": {},
   "source": [
    "Another parameter for decision tress is the criterion for creating a decision.\n",
    "Gini impurity and Information gain are two popular ones:\n",
    "• Gini impurity: This is a measure of how often a decision node would\n",
    "incorrectly predict a sample's class\n",
    "• Information gain: This uses information-theory-based entropy to indicate\n",
    "how much extra information is gained by the decision node"
   ]
  },
  {
   "cell_type": "markdown",
   "metadata": {},
   "source": [
    "Using decision trees"
   ]
  },
  {
   "cell_type": "code",
   "execution_count": 95,
   "metadata": {
    "collapsed": false
   },
   "outputs": [],
   "source": [
    "'''import the DecisionTreeClassifier class and create a decision tree using\n",
    "scikit-learn:'''\n",
    "from sklearn.tree import DecisionTreeClassifier\n",
    "clf=DecisionTreeClassifier(random_state=14)#enalbe exmaine random_stete as any number"
   ]
  },
  {
   "cell_type": "code",
   "execution_count": 96,
   "metadata": {
    "collapsed": false
   },
   "outputs": [
    {
     "name": "stdout",
     "output_type": "stream",
     "text": [
      "Using just the last result from the home and visitor teams\n",
      "Accuracy: 50.0%\n",
      "Using just the last result from the home and visitor teams\n",
      "Accuracy: 50.0%\n"
     ]
    }
   ],
   "source": [
    "from sklearn.cross_validation import cross_val_score\n",
    "\n",
    "# Create a dataset with just the neccessary information\n",
    "X_previouswins = dataset[[\"HomeLastWin\", \"VisitorLastWin\"]].values\n",
    "clf = DecisionTreeClassifier(random_state=14)\n",
    "scores = cross_val_score(clf, X_previouswins, y_true, scoring='accuracy')\n",
    "print(\"Using just the last result from the home and visitor teams\")\n",
    "print(\"Accuracy: {0:.1f}%\".format(np.mean(scores) * 100))\n",
    "scores = cross_val_score(clf, X_previouswins, y_true, scoring='accuracy')\n",
    "print(\"Using just the last result from the home and visitor teams\")\n",
    "print(\"Accuracy: {0:.1f}%\".format(np.mean(scores) * 100))"
   ]
  },
  {
   "cell_type": "markdown",
   "metadata": {},
   "source": [
    "Sports outcome prediction"
   ]
  },
  {
   "cell_type": "raw",
   "metadata": {},
   "source": [
    "• Which team is considered better generally?\n",
    "• Which team won their last encounter?"
   ]
  },
  {
   "cell_type": "code",
   "execution_count": 104,
   "metadata": {
    "collapsed": false
   },
   "outputs": [
    {
     "data": {
      "text/html": [
       "<div style=\"max-height:1000px;max-width:1500px;overflow:auto;\">\n",
       "<table border=\"1\" class=\"dataframe\">\n",
       "  <thead>\n",
       "    <tr style=\"text-align: right;\">\n",
       "      <th></th>\n",
       "      <th>Rk</th>\n",
       "      <th>Team</th>\n",
       "      <th>Overall</th>\n",
       "      <th>Home</th>\n",
       "      <th>Road</th>\n",
       "      <th>E</th>\n",
       "      <th>W</th>\n",
       "      <th>A</th>\n",
       "      <th>C</th>\n",
       "      <th>SE</th>\n",
       "      <th>...</th>\n",
       "      <th>Post</th>\n",
       "      <th>≤3</th>\n",
       "      <th>≥10</th>\n",
       "      <th>Oct</th>\n",
       "      <th>Nov</th>\n",
       "      <th>Dec</th>\n",
       "      <th>Jan</th>\n",
       "      <th>Feb</th>\n",
       "      <th>Mar</th>\n",
       "      <th>Apr</th>\n",
       "    </tr>\n",
       "  </thead>\n",
       "  <tbody>\n",
       "    <tr>\n",
       "      <th>0</th>\n",
       "      <td> 1</td>\n",
       "      <td>            Miami Heat</td>\n",
       "      <td> 66-16</td>\n",
       "      <td> 37-4</td>\n",
       "      <td> 29-12</td>\n",
       "      <td> 41-11</td>\n",
       "      <td>  25-5</td>\n",
       "      <td> 14-4</td>\n",
       "      <td> 12-6</td>\n",
       "      <td> 15-1</td>\n",
       "      <td>...</td>\n",
       "      <td>  30-2</td>\n",
       "      <td>  9-3</td>\n",
       "      <td>  39-8</td>\n",
       "      <td> 1-0</td>\n",
       "      <td> 10-3</td>\n",
       "      <td> 10-5</td>\n",
       "      <td>  8-5</td>\n",
       "      <td> 12-1</td>\n",
       "      <td> 17-1</td>\n",
       "      <td> 8-1</td>\n",
       "    </tr>\n",
       "    <tr>\n",
       "      <th>1</th>\n",
       "      <td> 2</td>\n",
       "      <td> Oklahoma City Thunder</td>\n",
       "      <td> 60-22</td>\n",
       "      <td> 34-7</td>\n",
       "      <td> 26-15</td>\n",
       "      <td>  21-9</td>\n",
       "      <td> 39-13</td>\n",
       "      <td>  7-3</td>\n",
       "      <td>  8-2</td>\n",
       "      <td>  6-4</td>\n",
       "      <td>...</td>\n",
       "      <td>  21-8</td>\n",
       "      <td>  3-6</td>\n",
       "      <td>  44-6</td>\n",
       "      <td> NaN</td>\n",
       "      <td> 13-4</td>\n",
       "      <td> 11-2</td>\n",
       "      <td> 11-5</td>\n",
       "      <td>  7-4</td>\n",
       "      <td> 12-5</td>\n",
       "      <td> 6-2</td>\n",
       "    </tr>\n",
       "    <tr>\n",
       "      <th>2</th>\n",
       "      <td> 3</td>\n",
       "      <td>     San Antonio Spurs</td>\n",
       "      <td> 58-24</td>\n",
       "      <td> 35-6</td>\n",
       "      <td> 23-18</td>\n",
       "      <td>  25-5</td>\n",
       "      <td> 33-19</td>\n",
       "      <td>  8-2</td>\n",
       "      <td>  9-1</td>\n",
       "      <td>  8-2</td>\n",
       "      <td>...</td>\n",
       "      <td> 16-12</td>\n",
       "      <td>  9-5</td>\n",
       "      <td> 31-10</td>\n",
       "      <td> 1-0</td>\n",
       "      <td> 12-4</td>\n",
       "      <td> 12-4</td>\n",
       "      <td> 12-3</td>\n",
       "      <td>  8-3</td>\n",
       "      <td> 10-4</td>\n",
       "      <td> 3-6</td>\n",
       "    </tr>\n",
       "    <tr>\n",
       "      <th>3</th>\n",
       "      <td> 4</td>\n",
       "      <td>        Denver Nuggets</td>\n",
       "      <td> 57-25</td>\n",
       "      <td> 38-3</td>\n",
       "      <td> 19-22</td>\n",
       "      <td> 19-11</td>\n",
       "      <td> 38-14</td>\n",
       "      <td>  5-5</td>\n",
       "      <td> 10-0</td>\n",
       "      <td>  4-6</td>\n",
       "      <td>...</td>\n",
       "      <td>  24-4</td>\n",
       "      <td> 11-7</td>\n",
       "      <td>  28-8</td>\n",
       "      <td> 0-1</td>\n",
       "      <td>  8-8</td>\n",
       "      <td>  9-6</td>\n",
       "      <td> 12-3</td>\n",
       "      <td>  8-4</td>\n",
       "      <td> 13-2</td>\n",
       "      <td> 7-1</td>\n",
       "    </tr>\n",
       "    <tr>\n",
       "      <th>4</th>\n",
       "      <td> 5</td>\n",
       "      <td>  Los Angeles Clippers</td>\n",
       "      <td> 56-26</td>\n",
       "      <td> 32-9</td>\n",
       "      <td> 24-17</td>\n",
       "      <td>  21-9</td>\n",
       "      <td> 35-17</td>\n",
       "      <td>  7-3</td>\n",
       "      <td>  8-2</td>\n",
       "      <td>  6-4</td>\n",
       "      <td>...</td>\n",
       "      <td>  17-9</td>\n",
       "      <td>  3-5</td>\n",
       "      <td> 38-12</td>\n",
       "      <td> 1-0</td>\n",
       "      <td>  8-6</td>\n",
       "      <td> 16-0</td>\n",
       "      <td>  9-7</td>\n",
       "      <td>  8-5</td>\n",
       "      <td>  7-7</td>\n",
       "      <td> 7-1</td>\n",
       "    </tr>\n",
       "  </tbody>\n",
       "</table>\n",
       "<p>5 rows × 24 columns</p>\n",
       "</div>"
      ],
      "text/plain": [
       "   Rk                   Team Overall  Home   Road      E      W     A     C  \\\n",
       "0   1             Miami Heat   66-16  37-4  29-12  41-11   25-5  14-4  12-6   \n",
       "1   2  Oklahoma City Thunder   60-22  34-7  26-15   21-9  39-13   7-3   8-2   \n",
       "2   3      San Antonio Spurs   58-24  35-6  23-18   25-5  33-19   8-2   9-1   \n",
       "3   4         Denver Nuggets   57-25  38-3  19-22  19-11  38-14   5-5  10-0   \n",
       "4   5   Los Angeles Clippers   56-26  32-9  24-17   21-9  35-17   7-3   8-2   \n",
       "\n",
       "     SE  ...    Post    ≤3    ≥10  Oct   Nov   Dec   Jan   Feb   Mar  Apr  \n",
       "0  15-1  ...    30-2   9-3   39-8  1-0  10-3  10-5   8-5  12-1  17-1  8-1  \n",
       "1   6-4  ...    21-8   3-6   44-6  NaN  13-4  11-2  11-5   7-4  12-5  6-2  \n",
       "2   8-2  ...   16-12   9-5  31-10  1-0  12-4  12-4  12-3   8-3  10-4  3-6  \n",
       "3   4-6  ...    24-4  11-7   28-8  0-1   8-8   9-6  12-3   8-4  13-2  7-1  \n",
       "4   6-4  ...    17-9   3-5  38-12  1-0   8-6  16-0   9-7   8-5   7-7  7-1  \n",
       "\n",
       "[5 rows x 24 columns]"
      ]
     },
     "execution_count": 104,
     "metadata": {},
     "output_type": "execute_result"
    }
   ],
   "source": [
    "# Let's try see which team is better on the ladder. Using the previous year's ladder\n",
    "ladder_filename = (\"leagues_NBA_2013_standings_expanded-standings.csv\")\n",
    "ladder = pd.read_csv(ladder_filename, skiprows=[0,1])\n",
    "ladder.head()"
   ]
  },
  {
   "cell_type": "code",
   "execution_count": 102,
   "metadata": {
    "collapsed": false
   },
   "outputs": [
    {
     "ename": "IndexError",
     "evalue": "index 0 is out of bounds for axis 0 with size 0",
     "output_type": "error",
     "traceback": [
      "\u001b[1;31m---------------------------------------------------------------------------\u001b[0m",
      "\u001b[1;31mIndexError\u001b[0m                                Traceback (most recent call last)",
      "\u001b[1;32m<ipython-input-102-f8583e047f35>\u001b[0m in \u001b[0;36m<module>\u001b[1;34m()\u001b[0m\n\u001b[0;32m      8\u001b[0m     \u001b[1;32melif\u001b[0m \u001b[0mvisitor_team\u001b[0m \u001b[1;33m==\u001b[0m \u001b[1;34m\"New Orleans Pelicans\"\u001b[0m\u001b[1;33m:\u001b[0m\u001b[1;33m\u001b[0m\u001b[0m\n\u001b[0;32m      9\u001b[0m         \u001b[0mvisitor_team\u001b[0m \u001b[1;33m=\u001b[0m \u001b[1;34m\"New Orleans Hornets\"\u001b[0m\u001b[1;33m\u001b[0m\u001b[0m\n\u001b[1;32m---> 10\u001b[1;33m     \u001b[0mhome_rank\u001b[0m \u001b[1;33m=\u001b[0m \u001b[0mladder\u001b[0m\u001b[1;33m[\u001b[0m\u001b[0mladder\u001b[0m\u001b[1;33m[\u001b[0m\u001b[1;34m\"Team\"\u001b[0m\u001b[1;33m]\u001b[0m \u001b[1;33m==\u001b[0m \u001b[0mhome_team\u001b[0m\u001b[1;33m]\u001b[0m\u001b[1;33m[\u001b[0m\u001b[1;34m\"Rk\"\u001b[0m\u001b[1;33m]\u001b[0m\u001b[1;33m.\u001b[0m\u001b[0mvalues\u001b[0m\u001b[1;33m[\u001b[0m\u001b[1;36m0\u001b[0m\u001b[1;33m]\u001b[0m\u001b[1;33m\u001b[0m\u001b[0m\n\u001b[0m\u001b[0;32m     11\u001b[0m     \u001b[0mvisitor_rank\u001b[0m \u001b[1;33m=\u001b[0m \u001b[0mladder\u001b[0m\u001b[1;33m[\u001b[0m\u001b[0mladder\u001b[0m\u001b[1;33m[\u001b[0m\u001b[1;34m\"Team\"\u001b[0m\u001b[1;33m]\u001b[0m \u001b[1;33m==\u001b[0m \u001b[0mvisitor_team\u001b[0m\u001b[1;33m]\u001b[0m\u001b[1;33m[\u001b[0m\u001b[1;34m\"Rk\"\u001b[0m\u001b[1;33m]\u001b[0m\u001b[1;33m.\u001b[0m\u001b[0mvalues\u001b[0m\u001b[1;33m[\u001b[0m\u001b[1;36m0\u001b[0m\u001b[1;33m]\u001b[0m\u001b[1;33m\u001b[0m\u001b[0m\n\u001b[0;32m     12\u001b[0m     \u001b[0mrow\u001b[0m\u001b[1;33m[\u001b[0m\u001b[1;34m\"HomeTeamRanksHigher\"\u001b[0m\u001b[1;33m]\u001b[0m \u001b[1;33m=\u001b[0m \u001b[0mint\u001b[0m\u001b[1;33m(\u001b[0m\u001b[0mhome_rank\u001b[0m \u001b[1;33m>\u001b[0m \u001b[0mvisitor_rank\u001b[0m\u001b[1;33m)\u001b[0m\u001b[1;33m\u001b[0m\u001b[0m\n",
      "\u001b[1;31mIndexError\u001b[0m: index 0 is out of bounds for axis 0 with size 0"
     ]
    }
   ],
   "source": [
    "# We can create a new feature -- HomeTeamRanksHighe\n",
    "results[\"HomeTeamRanksHigher\"] = 0\n",
    "for index, row in results.iterrows():\n",
    "    home_team = row[\"Home Team\"]\n",
    "    visitor_team = row[\"Visitor Team\"]\n",
    "    if home_team == \"New Orleans Pelicans\":\n",
    "        home_team = \"New Orleans Hornets\"\n",
    "    elif visitor_team == \"New Orleans Pelicans\":\n",
    "        visitor_team = \"New Orleans Hornets\"\n",
    "    home_rank = ladder[ladder[\"Team\"] == home_team][\"Rk\"].values[0]\n",
    "    visitor_rank = ladder[ladder[\"Team\"] == visitor_team][\"Rk\"].values[0]\n",
    "    row[\"HomeTeamRanksHigher\"] = int(home_rank > visitor_rank)\n",
    "    results.ix[index] = row\n",
    "results.head()"
   ]
  },
  {
   "cell_type": "code",
   "execution_count": null,
   "metadata": {
    "collapsed": true
   },
   "outputs": [],
   "source": []
  }
 ],
 "metadata": {
  "kernelspec": {
   "display_name": "Python 2",
   "language": "python",
   "name": "python2"
  },
  "language_info": {
   "codemirror_mode": {
    "name": "ipython",
    "version": 2
   },
   "file_extension": ".py",
   "mimetype": "text/x-python",
   "name": "python",
   "nbconvert_exporter": "python",
   "pygments_lexer": "ipython2",
   "version": "2.7.10"
  }
 },
 "nbformat": 4,
 "nbformat_minor": 0
}
