{
 "cells": [
  {
   "cell_type": "markdown",
   "metadata": {},
   "source": [
    "# 3 Predicting Sports Winners with Decision Trees"
   ]
  },
  {
   "cell_type": "raw",
   "metadata": {},
   "source": [
    "predicting the winner of sports matches using a\n",
    "different type of classification algorithm: decision trees. These algorithms have a\n",
    "number of advantages over other algorithms. One of the main advantages is that they\n",
    "are readable by humans. In this way, decision trees can be used to learn a procedure,\n",
    "which could then be given to a human to perform if needed. Another advantage is\n",
    "that they work with a variety of features, which we will see in this chapter.\n",
    "We will cover the following topics in this chapter:\n",
    "• Using the pandas library for loading and manipulating data\n",
    "• Decision trees\n",
    "• Random forests\n",
    "• Using real-world datasets in data mining\n",
    "• Creating new features and testing them in a robust framework\n",
    "Loading the"
   ]
  },
  {
   "cell_type": "markdown",
   "metadata": {},
   "source": [
    "Loading the dataset"
   ]
  },
  {
   "cell_type": "markdown",
   "metadata": {},
   "source": [
    "Using pandas to load the dataset\n",
    "\n",
    "The pandas library is a library for loading, managing, and manipulating data.\n",
    "It handles data structures behind-the-scenes and supports analysis methods,\n",
    "such as computing the mean"
   ]
  },
  {
   "cell_type": "code",
   "execution_count": 3,
   "metadata": {
    "collapsed": false
   },
   "outputs": [],
   "source": [
    "import pandas as pd\n",
    "dataset=pd.read_csv('leagues_NBA_2014_games_games.csv')"
   ]
  },
  {
   "cell_type": "code",
   "execution_count": 4,
   "metadata": {
    "collapsed": false
   },
   "outputs": [
    {
     "data": {
      "text/html": [
       "<div style=\"max-height:1000px;max-width:1500px;overflow:auto;\">\n",
       "<table border=\"1\" class=\"dataframe\">\n",
       "  <thead>\n",
       "    <tr style=\"text-align: right;\">\n",
       "      <th></th>\n",
       "      <th></th>\n",
       "      <th></th>\n",
       "      <th></th>\n",
       "      <th></th>\n",
       "      <th></th>\n",
       "      <th></th>\n",
       "      <th></th>\n",
       "      <th></th>\n",
       "    </tr>\n",
       "  </thead>\n",
       "  <tbody>\n",
       "    <tr>\n",
       "      <th>Date</th>\n",
       "      <th>Start (ET)</th>\n",
       "      <th>NaN</th>\n",
       "      <th>Visitor/Neutral</th>\n",
       "      <th>PTS</th>\n",
       "      <th>Home/Neutral</th>\n",
       "      <th>PTS</th>\n",
       "      <th>NaN</th>\n",
       "      <th>Notes</th>\n",
       "    </tr>\n",
       "    <tr>\n",
       "      <th>October</th>\n",
       "      <th>October</th>\n",
       "      <th>October</th>\n",
       "      <th>October</th>\n",
       "      <th>October</th>\n",
       "      <th>October</th>\n",
       "      <th>October</th>\n",
       "      <th>October</th>\n",
       "      <th>October</th>\n",
       "    </tr>\n",
       "    <tr>\n",
       "      <th rowspan=\"3\" valign=\"top\">Tue Oct 29 2013</th>\n",
       "      <th rowspan=\"3\" valign=\"top\">NaN</th>\n",
       "      <th rowspan=\"3\" valign=\"top\">Box Score</th>\n",
       "      <th>Orlando Magic</th>\n",
       "      <th>87</th>\n",
       "      <th>Indiana Pacers</th>\n",
       "      <th>97</th>\n",
       "      <th>NaN</th>\n",
       "      <th>NaN</th>\n",
       "    </tr>\n",
       "    <tr>\n",
       "      <th>Los Angeles Clippers</th>\n",
       "      <th>103</th>\n",
       "      <th>Los Angeles Lakers</th>\n",
       "      <th>116</th>\n",
       "      <th>NaN</th>\n",
       "      <th>NaN</th>\n",
       "    </tr>\n",
       "    <tr>\n",
       "      <th>Chicago Bulls</th>\n",
       "      <th>95</th>\n",
       "      <th>Miami Heat</th>\n",
       "      <th>107</th>\n",
       "      <th>NaN</th>\n",
       "      <th>NaN</th>\n",
       "    </tr>\n",
       "  </tbody>\n",
       "</table>\n",
       "</div>"
      ],
      "text/plain": [
       "Empty DataFrame\n",
       "Columns: []\n",
       "Index: [(Date, Start (ET), nan, Visitor/Neutral, PTS, Home/Neutral, PTS, nan, Notes), (October, October, October, October, October, October, October, October, October), (Tue Oct 29 2013, nan, Box Score, Orlando Magic, 87, Indiana Pacers, 97, nan, nan), (Tue Oct 29 2013, nan, Box Score, Los Angeles Clippers, 103, Los Angeles Lakers, 116, nan, nan), (Tue Oct 29 2013, nan, Box Score, Chicago Bulls, 95, Miami Heat, 107, nan, nan)]"
      ]
     },
     "execution_count": 4,
     "metadata": {},
     "output_type": "execute_result"
    }
   ],
   "source": [
    "dataset.ix[:5]"
   ]
  },
  {
   "cell_type": "markdown",
   "metadata": {},
   "source": [
    "Cleaning up the dataset"
   ]
  },
  {
   "cell_type": "raw",
   "metadata": {},
   "source": [
    "• The date is just a string and not a date object\n",
    "• The first row is blank\n",
    "• From visually inspecting the results, the headings aren't complete or correct"
   ]
  },
  {
   "cell_type": "code",
   "execution_count": 5,
   "metadata": {
    "collapsed": false
   },
   "outputs": [
    {
     "data": {
      "text/plain": [
       "'The pandas.read_csv function has parameters to fix each of these issues, which we\\ncan specify when loading the file. We can also change the headings after loading the\\nfile'"
      ]
     },
     "execution_count": 5,
     "metadata": {},
     "output_type": "execute_result"
    }
   ],
   "source": [
    "'''The pandas.read_csv function has parameters to fix each of these issues, which we\n",
    "can specify when loading the file. We can also change the headings after loading the\n",
    "file'''"
   ]
  },
  {
   "cell_type": "code",
   "execution_count": 10,
   "metadata": {
    "collapsed": false
   },
   "outputs": [],
   "source": [
    "dataset = pd.read_csv('leagues_NBA_2014_games_games.csv', parse_dates=[\"Date\"],\n",
    "skiprows=[0,])\n",
    "dataset.columns = [\"Date\",'Start', \"Score Type\", \"Visitor Team\",\n",
    "                        \"VisitorPts\", \"Home Team\", \"HomePts\", \"OT?\", \"Notes\"]"
   ]
  },
  {
   "cell_type": "code",
   "execution_count": 11,
   "metadata": {
    "collapsed": false,
    "scrolled": true
   },
   "outputs": [
    {
     "data": {
      "text/html": [
       "<div style=\"max-height:1000px;max-width:1500px;overflow:auto;\">\n",
       "<table border=\"1\" class=\"dataframe\">\n",
       "  <thead>\n",
       "    <tr style=\"text-align: right;\">\n",
       "      <th></th>\n",
       "      <th>Date</th>\n",
       "      <th>Start</th>\n",
       "      <th>Score Type</th>\n",
       "      <th>Visitor Team</th>\n",
       "      <th>VisitorPts</th>\n",
       "      <th>Home Team</th>\n",
       "      <th>HomePts</th>\n",
       "      <th>OT?</th>\n",
       "      <th>Notes</th>\n",
       "    </tr>\n",
       "  </thead>\n",
       "  <tbody>\n",
       "    <tr>\n",
       "      <th>0</th>\n",
       "      <td>2015-10-20</td>\n",
       "      <td> October</td>\n",
       "      <td>   October</td>\n",
       "      <td>              October</td>\n",
       "      <td> October</td>\n",
       "      <td>             October</td>\n",
       "      <td> October</td>\n",
       "      <td> October</td>\n",
       "      <td> October</td>\n",
       "    </tr>\n",
       "    <tr>\n",
       "      <th>1</th>\n",
       "      <td>2013-10-29</td>\n",
       "      <td>     NaN</td>\n",
       "      <td> Box Score</td>\n",
       "      <td>        Orlando Magic</td>\n",
       "      <td>      87</td>\n",
       "      <td>      Indiana Pacers</td>\n",
       "      <td>      97</td>\n",
       "      <td>     NaN</td>\n",
       "      <td>     NaN</td>\n",
       "    </tr>\n",
       "    <tr>\n",
       "      <th>2</th>\n",
       "      <td>2013-10-29</td>\n",
       "      <td>     NaN</td>\n",
       "      <td> Box Score</td>\n",
       "      <td> Los Angeles Clippers</td>\n",
       "      <td>     103</td>\n",
       "      <td>  Los Angeles Lakers</td>\n",
       "      <td>     116</td>\n",
       "      <td>     NaN</td>\n",
       "      <td>     NaN</td>\n",
       "    </tr>\n",
       "    <tr>\n",
       "      <th>3</th>\n",
       "      <td>2013-10-29</td>\n",
       "      <td>     NaN</td>\n",
       "      <td> Box Score</td>\n",
       "      <td>        Chicago Bulls</td>\n",
       "      <td>      95</td>\n",
       "      <td>          Miami Heat</td>\n",
       "      <td>     107</td>\n",
       "      <td>     NaN</td>\n",
       "      <td>     NaN</td>\n",
       "    </tr>\n",
       "    <tr>\n",
       "      <th>4</th>\n",
       "      <td>2013-10-30</td>\n",
       "      <td>     NaN</td>\n",
       "      <td> Box Score</td>\n",
       "      <td>        Brooklyn Nets</td>\n",
       "      <td>      94</td>\n",
       "      <td> Cleveland Cavaliers</td>\n",
       "      <td>      98</td>\n",
       "      <td>     NaN</td>\n",
       "      <td>     NaN</td>\n",
       "    </tr>\n",
       "    <tr>\n",
       "      <th>5</th>\n",
       "      <td>2013-10-30</td>\n",
       "      <td>     NaN</td>\n",
       "      <td> Box Score</td>\n",
       "      <td>        Atlanta Hawks</td>\n",
       "      <td>     109</td>\n",
       "      <td>    Dallas Mavericks</td>\n",
       "      <td>     118</td>\n",
       "      <td>     NaN</td>\n",
       "      <td>     NaN</td>\n",
       "    </tr>\n",
       "  </tbody>\n",
       "</table>\n",
       "</div>"
      ],
      "text/plain": [
       "        Date    Start Score Type          Visitor Team VisitorPts  \\\n",
       "0 2015-10-20  October    October               October    October   \n",
       "1 2013-10-29      NaN  Box Score         Orlando Magic         87   \n",
       "2 2013-10-29      NaN  Box Score  Los Angeles Clippers        103   \n",
       "3 2013-10-29      NaN  Box Score         Chicago Bulls         95   \n",
       "4 2013-10-30      NaN  Box Score         Brooklyn Nets         94   \n",
       "5 2013-10-30      NaN  Box Score         Atlanta Hawks        109   \n",
       "\n",
       "             Home Team  HomePts      OT?    Notes  \n",
       "0              October  October  October  October  \n",
       "1       Indiana Pacers       97      NaN      NaN  \n",
       "2   Los Angeles Lakers      116      NaN      NaN  \n",
       "3           Miami Heat      107      NaN      NaN  \n",
       "4  Cleveland Cavaliers       98      NaN      NaN  \n",
       "5     Dallas Mavericks      118      NaN      NaN  "
      ]
     },
     "execution_count": 11,
     "metadata": {},
     "output_type": "execute_result"
    }
   ],
   "source": [
    "dataset.ix[:5]"
   ]
  },
  {
   "cell_type": "code",
   "execution_count": 12,
   "metadata": {
    "collapsed": false
   },
   "outputs": [
    {
     "data": {
      "text/html": [
       "<div style=\"max-height:1000px;max-width:1500px;overflow:auto;\">\n",
       "<table border=\"1\" class=\"dataframe\">\n",
       "  <thead>\n",
       "    <tr style=\"text-align: right;\">\n",
       "      <th></th>\n",
       "      <th>Date</th>\n",
       "      <th>Start</th>\n",
       "      <th>Score Type</th>\n",
       "      <th>Visitor Team</th>\n",
       "      <th>VisitorPts</th>\n",
       "      <th>Home Team</th>\n",
       "      <th>HomePts</th>\n",
       "      <th>OT?</th>\n",
       "      <th>Notes</th>\n",
       "    </tr>\n",
       "  </thead>\n",
       "  <tbody>\n",
       "    <tr>\n",
       "      <th>1232</th>\n",
       "      <td>2014-04-16</td>\n",
       "      <td> NaN</td>\n",
       "      <td> Box Score</td>\n",
       "      <td>      Detroit Pistons</td>\n",
       "      <td> 111</td>\n",
       "      <td>  Oklahoma City Thunder</td>\n",
       "      <td> 112</td>\n",
       "      <td> NaN</td>\n",
       "      <td> NaN</td>\n",
       "    </tr>\n",
       "    <tr>\n",
       "      <th>1233</th>\n",
       "      <td>2014-04-16</td>\n",
       "      <td> NaN</td>\n",
       "      <td> Box Score</td>\n",
       "      <td>       Indiana Pacers</td>\n",
       "      <td> 101</td>\n",
       "      <td>          Orlando Magic</td>\n",
       "      <td>  86</td>\n",
       "      <td> NaN</td>\n",
       "      <td> NaN</td>\n",
       "    </tr>\n",
       "    <tr>\n",
       "      <th>1234</th>\n",
       "      <td>2014-04-16</td>\n",
       "      <td> NaN</td>\n",
       "      <td> Box Score</td>\n",
       "      <td> Los Angeles Clippers</td>\n",
       "      <td> 104</td>\n",
       "      <td> Portland Trail Blazers</td>\n",
       "      <td> 110</td>\n",
       "      <td> NaN</td>\n",
       "      <td> NaN</td>\n",
       "    </tr>\n",
       "    <tr>\n",
       "      <th>1235</th>\n",
       "      <td>2014-04-16</td>\n",
       "      <td> NaN</td>\n",
       "      <td> Box Score</td>\n",
       "      <td>         Phoenix Suns</td>\n",
       "      <td> 104</td>\n",
       "      <td>       Sacramento Kings</td>\n",
       "      <td>  99</td>\n",
       "      <td> NaN</td>\n",
       "      <td> NaN</td>\n",
       "    </tr>\n",
       "    <tr>\n",
       "      <th>1236</th>\n",
       "      <td>2014-04-16</td>\n",
       "      <td> NaN</td>\n",
       "      <td> Box Score</td>\n",
       "      <td>   Los Angeles Lakers</td>\n",
       "      <td> 113</td>\n",
       "      <td>      San Antonio Spurs</td>\n",
       "      <td> 100</td>\n",
       "      <td> NaN</td>\n",
       "      <td> NaN</td>\n",
       "    </tr>\n",
       "  </tbody>\n",
       "</table>\n",
       "</div>"
      ],
      "text/plain": [
       "           Date Start Score Type          Visitor Team VisitorPts  \\\n",
       "1232 2014-04-16   NaN  Box Score       Detroit Pistons        111   \n",
       "1233 2014-04-16   NaN  Box Score        Indiana Pacers        101   \n",
       "1234 2014-04-16   NaN  Box Score  Los Angeles Clippers        104   \n",
       "1235 2014-04-16   NaN  Box Score          Phoenix Suns        104   \n",
       "1236 2014-04-16   NaN  Box Score    Los Angeles Lakers        113   \n",
       "\n",
       "                   Home Team HomePts  OT? Notes  \n",
       "1232   Oklahoma City Thunder     112  NaN   NaN  \n",
       "1233           Orlando Magic      86  NaN   NaN  \n",
       "1234  Portland Trail Blazers     110  NaN   NaN  \n",
       "1235        Sacramento Kings      99  NaN   NaN  \n",
       "1236       San Antonio Spurs     100  NaN   NaN  "
      ]
     },
     "execution_count": 12,
     "metadata": {},
     "output_type": "execute_result"
    }
   ],
   "source": [
    "dataset.tail()"
   ]
  },
  {
   "cell_type": "code",
   "execution_count": null,
   "metadata": {
    "collapsed": false
   },
   "outputs": [],
   "source": []
  },
  {
   "cell_type": "code",
   "execution_count": null,
   "metadata": {
    "collapsed": true
   },
   "outputs": [],
   "source": []
  }
 ],
 "metadata": {
  "kernelspec": {
   "display_name": "Python 2",
   "language": "python",
   "name": "python2"
  },
  "language_info": {
   "codemirror_mode": {
    "name": "ipython",
    "version": 2
   },
   "file_extension": ".py",
   "mimetype": "text/x-python",
   "name": "python",
   "nbconvert_exporter": "python",
   "pygments_lexer": "ipython2",
   "version": "2.7.10"
  }
 },
 "nbformat": 4,
 "nbformat_minor": 0
}
